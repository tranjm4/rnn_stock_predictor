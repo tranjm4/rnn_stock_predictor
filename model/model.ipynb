{
 "cells": [
  {
   "cell_type": "markdown",
   "metadata": {},
   "source": [
    "# 0. Importing Dependencies"
   ]
  },
  {
   "cell_type": "code",
   "execution_count": 186,
   "metadata": {},
   "outputs": [],
   "source": [
    "import sys\n",
    "import os\n",
    "import torch\n",
    "import torch.nn as nn\n",
    "import torch.optim as optim\n",
    "import torch.nn.functional as F\n",
    "from torch.utils.data import Dataset, DataLoader\n",
    "import numpy as np\n",
    "import matplotlib.pyplot as plt\n",
    "import random\n",
    "\n",
    "from pprint import pprint\n",
    "\n",
    "from sklearn.preprocessing import MinMaxScaler\n",
    "from sklearn.model_selection import train_test_split\n",
    "\n",
    "random.seed(42)"
   ]
  },
  {
   "cell_type": "code",
   "execution_count": 187,
   "metadata": {},
   "outputs": [],
   "source": [
    "parent_dir = os.path.abspath(\"..\")\n",
    "sys.path.append(parent_dir + \"/api_scraper\")\n",
    "import database\n",
    "from database import StockData"
   ]
  },
  {
   "cell_type": "markdown",
   "metadata": {},
   "source": [
    "# 1. Loading and Preparing Dataset"
   ]
  },
  {
   "cell_type": "code",
   "execution_count": 204,
   "metadata": {},
   "outputs": [],
   "source": [
    "def stockdata_to_tensor(x: StockData) -> torch.tensor:\n",
    "    return torch.tensor(list(zip(*x)))\n",
    "\n",
    "def stockdata_to_list(x: StockData):\n",
    "    return list(zip(*x))\n",
    "\n",
    "def partition_symbols(all_symbols: list[str]) -> tuple[list[str], list[str]]:\n",
    "    \"\"\"\n",
    "    Randomly selects 75% of the symbols to be used for training\n",
    "    Returns the sampled symbols (used for training) AND not-sampled symbols (used for evaluation)\n",
    "    \"\"\"\n",
    "    sample_size = int(len(all_symbols) * 0.90)\n",
    "    \n",
    "    sample = random.sample(all_symbols, sample_size)\n",
    "    non_sample = [x for x in all_symbols if x not in sample]\n",
    "    \n",
    "    return sample, non_sample\n",
    "\n",
    "def get_data(symbols: list[str]) -> torch.tensor:\n",
    "    \"\"\"\n",
    "    Given a list of symbols, retrieves the stock data from the database\n",
    "    and returns the data as a tensor.\n",
    "    \n",
    "    shape: [num_symbols, 490, num_features (currently 5)]\n",
    "        TODO: more features such as MACD, EMA\n",
    "    \"\"\"\n",
    "    data = []\n",
    "    for symbol in symbols:\n",
    "        try:\n",
    "            stock_data = database.get_stock_data(symbol)\n",
    "            stock_data = stockdata_to_list(stock_data)\n",
    "            data.append(stock_data)\n",
    "        except:\n",
    "            print(symbol)\n",
    "            continue\n",
    "    data = torch.tensor(data)\n",
    "    \n",
    "    return data"
   ]
  },
  {
   "cell_type": "code",
   "execution_count": 205,
   "metadata": {},
   "outputs": [
    {
     "data": {
      "text/plain": [
       "torch.Size([133, 490, 5])"
      ]
     },
     "execution_count": 205,
     "metadata": {},
     "output_type": "execute_result"
    }
   ],
   "source": [
    "all_symbols = database.get_all_symbols()\n",
    "sampled_symbols, not_sampled_symbols = partition_symbols(all_symbols)\n",
    "\n",
    "# data = [stockdata_to_list(database.get_stock_data(x)) for x in all_symbols]\n",
    "data = get_data(sampled_symbols)\n",
    "eval_data = get_data(not_sampled_symbols)\n",
    "\n",
    "\"\"\"\n",
    "Within each stock's history, scale their prices\n",
    "to a relative (0,1) range\n",
    "\"\"\"\n",
    "\n",
    "scaler = MinMaxScaler(feature_range=(0,1))\n",
    "\n",
    "scaled_data = torch.empty_like(data)\n",
    "for i in range(len(data)):\n",
    "    stock_data = data[i]\n",
    "    scaled_stock = torch.tensor(scaler.fit_transform(stock_data), dtype=torch.float32)\n",
    "    scaled_data[i] = scaled_stock\n",
    "    \n",
    "scaled_data.shape"
   ]
  },
  {
   "cell_type": "code",
   "execution_count": 206,
   "metadata": {},
   "outputs": [],
   "source": [
    "\n",
    "# feature indexes (dim 2)\n",
    "# 0: open\n",
    "# 1: close\n",
    "# 2: low\n",
    "# 3: high\n",
    "# 4: volume\n",
    "\n",
    "class StockPriceDataset(Dataset):\n",
    "    def __init__(self, data, time_steps):\n",
    "        self.sequences = []\n",
    "        self.labels = []\n",
    "        for stock_data in data:\n",
    "            seq, lbl = self._create_sequences(stock_data, time_steps)\n",
    "            self.sequences.append(seq)\n",
    "            self.labels.append(lbl)\n",
    "            \n",
    "        self.sequences = np.concatenate(self.sequences, axis=0)\n",
    "        self.labels = np.concatenate(self.labels, axis=0)\n",
    "        \n",
    "        \n",
    "    def __len__(self):\n",
    "        return len(self.sequences)\n",
    "    \n",
    "    \n",
    "    def __getitem__(self, idx):\n",
    "        return torch.tensor(self.sequences[idx], dtype=torch.float32), \\\n",
    "            torch.tensor(self.labels[idx], dtype=torch.float32)\n",
    "            \n",
    "            \n",
    "    def _create_sequences(self, stock_data, time_steps):\n",
    "        \"\"\"\n",
    "        Creates sequences of length {time_steps},\n",
    "        compiles them into an array that contains all possible\n",
    "        contiguous sequences.\n",
    "        \"\"\"\n",
    "        sequences = []\n",
    "        labels = []\n",
    "        for i in range(len(stock_data) - time_steps):\n",
    "            sequences.append(stock_data[i: i+time_steps])\n",
    "            labels.append(stock_data[i+time_steps, 1])\n",
    "        sequences = np.array([x.numpy() for x in sequences])    # Convert inner tensors to numpy array first\n",
    "        labels = np.array(labels)\n",
    "        return sequences, labels\n",
    "    \n",
    "\n",
    "class CustomStockPriceDataset(StockPriceDataset):\n",
    "    def __init__(self, sequences, labels):\n",
    "        self.sequences = sequences\n",
    "        self.labels = labels\n",
    "    \n",
    "    "
   ]
  },
  {
   "cell_type": "code",
   "execution_count": 207,
   "metadata": {},
   "outputs": [
    {
     "name": "stdout",
     "output_type": "stream",
     "text": [
      "sequences shape: (63308, 14, 5)\n",
      "labels shape: (63308,)\n"
     ]
    }
   ],
   "source": [
    "dataset = StockPriceDataset(scaled_data, 14)\n",
    "print(f\"sequences shape: {dataset.sequences.shape}\")\n",
    "print(f\"labels shape: {dataset.labels.shape}\")"
   ]
  },
  {
   "cell_type": "code",
   "execution_count": 208,
   "metadata": {},
   "outputs": [
    {
     "name": "stdout",
     "output_type": "stream",
     "text": [
      "Training sequences shape: (44315, 14, 5)\n",
      "Validation sequences shape: (12725, 14, 5)\n",
      "Test sequences shape: (6268, 14, 5)\n",
      "\n",
      "Training labels shape: (44315,)\n",
      "Validation labels shape: (12725,)\n",
      "Test labels shape: (6268,)\n"
     ]
    }
   ],
   "source": [
    "\"\"\"\n",
    "Create a 70-20-10 train-val-test data split\n",
    "\"\"\"\n",
    "\n",
    "train_sequences, val_sequences, train_labels, val_labels = train_test_split(\n",
    "    dataset.sequences, dataset.labels, test_size=0.3, random_state=42\n",
    ")\n",
    "\n",
    "val_sequences, test_sequences, val_labels, test_labels = train_test_split(\n",
    "    val_sequences, val_labels, test_size=0.33, random_state=42\n",
    ")\n",
    "\n",
    "print(f\"Training sequences shape: {train_sequences.shape}\")\n",
    "print(f\"Validation sequences shape: {val_sequences.shape}\")\n",
    "print(f\"Test sequences shape: {test_sequences.shape}\")\n",
    "print()\n",
    "print(f\"Training labels shape: {train_labels.shape}\")\n",
    "print(f\"Validation labels shape: {val_labels.shape}\")\n",
    "print(f\"Test labels shape: {test_labels.shape}\")"
   ]
  },
  {
   "cell_type": "code",
   "execution_count": 209,
   "metadata": {},
   "outputs": [],
   "source": [
    "batch_size = 32\n",
    "train_dataset = CustomStockPriceDataset(train_sequences, train_labels)\n",
    "val_dataset = CustomStockPriceDataset(val_sequences, val_labels)\n",
    "test_dataset = CustomStockPriceDataset(test_sequences, test_labels)\n",
    "\n",
    "train_dataloader = DataLoader(train_dataset, batch_size, shuffle=True)\n",
    "val_dataloader = DataLoader(val_dataset, batch_size, shuffle=True)\n",
    "test_dataloader = DataLoader(test_dataset, batch_size, shuffle=True)"
   ]
  },
  {
   "cell_type": "markdown",
   "metadata": {},
   "source": [
    "# 2. Defining LSTM Model"
   ]
  },
  {
   "cell_type": "code",
   "execution_count": 210,
   "metadata": {},
   "outputs": [],
   "source": [
    "class LSTMModel(nn.Module):\n",
    "    def __init__(self, input_size, hidden_size, num_layers):\n",
    "        super(LSTMModel, self).__init__()\n",
    "        self.lstm = nn.LSTM(input_size=input_size, \n",
    "                            hidden_size=hidden_size,\n",
    "                            num_layers=num_layers,\n",
    "                            batch_first=True)\n",
    "        self.fc = nn.Linear(hidden_size, 1)\n",
    "        \n",
    "    def forward(self, x):\n",
    "        lstm_out, _ = self.lstm(x)\n",
    "        out_last = lstm_out[:,-1,:]\n",
    "        out = self.fc(out_last)\n",
    "        \n",
    "        return out"
   ]
  },
  {
   "cell_type": "code",
   "execution_count": 211,
   "metadata": {},
   "outputs": [],
   "source": [
    "input_size = 5\n",
    "hidden_size = 50\n",
    "num_layers = 2\n",
    "learning_rate = 0.001\n",
    "num_epochs = 10\n",
    "\n",
    "model = LSTMModel(input_size, hidden_size, num_layers)\n",
    "optimizer = optim.Adam(model.parameters(), lr=learning_rate)\n",
    "criterion = torch.nn.MSELoss()"
   ]
  },
  {
   "cell_type": "code",
   "execution_count": 212,
   "metadata": {},
   "outputs": [],
   "source": [
    "def train_model(model, num_epochs, \n",
    "                train_loader, val_loader,\n",
    "                optimizer, criterion):\n",
    "    training_losses = []\n",
    "    validation_losses = []\n",
    "    for epoch in range(num_epochs):\n",
    "        model.train()\n",
    "        running_loss = 0.0\n",
    "        \n",
    "        for sequences, targets in train_loader:\n",
    "            optimizer.zero_grad()\n",
    "            predictions = model(sequences)\n",
    "            loss = criterion(predictions.squeeze(), targets)\n",
    "            loss.backward()\n",
    "            optimizer.step()\n",
    "            running_loss += loss.item()\n",
    "            \n",
    "        avg_train_loss = running_loss / len(train_loader)\n",
    "        \n",
    "        model.eval()\n",
    "        with torch.no_grad():\n",
    "            running_loss_val = 0.0\n",
    "            for sequences, targets in val_loader:\n",
    "                predictions = model(sequences)\n",
    "                loss = criterion(predictions.squeeze(), targets)\n",
    "                running_loss_val += loss.item()\n",
    "            avg_val_loss = running_loss_val / len(val_loader)\n",
    "            \n",
    "        training_losses.append(avg_train_loss)\n",
    "        validation_losses.append(avg_val_loss)\n",
    "            \n",
    "        print(f\"Epoch {epoch+1:>2} / {num_epochs} || Train Loss: {avg_train_loss:<30} || Validation Loss: {avg_val_loss:<30}\")\n",
    "    \n",
    "    return training_losses, validation_losses\n",
    "                "
   ]
  },
  {
   "cell_type": "code",
   "execution_count": 213,
   "metadata": {},
   "outputs": [
    {
     "name": "stdout",
     "output_type": "stream",
     "text": [
      "Epoch  1 / 20 || Train Loss: 0.003917501203733452 || Validation Loss: 0.0014377912257396706\n",
      "Epoch  2 / 20 || Train Loss: 0.0013144241810468655 || Validation Loss: 0.001308256277247641\n",
      "Epoch  3 / 20 || Train Loss: 0.0012567796158757304 || Validation Loss: 0.001249844545759401\n",
      "Epoch  4 / 20 || Train Loss: 0.0012123214631906242 || Validation Loss: 0.0011895426375198824\n",
      "Epoch  5 / 20 || Train Loss: 0.0011948633032080984 || Validation Loss: 0.0012042634894787077\n",
      "Epoch  6 / 20 || Train Loss: 0.0011848466320380246 || Validation Loss: 0.001403447306330606\n",
      "Epoch  7 / 20 || Train Loss: 0.0011791166078235402 || Validation Loss: 0.0012734240420711408\n",
      "Epoch  8 / 20 || Train Loss: 0.001158106931029661 || Validation Loss: 0.0011906684554724874\n",
      "Epoch  9 / 20 || Train Loss: 0.0011710618653491018 || Validation Loss: 0.0011845731212852299\n",
      "Epoch 10 / 20 || Train Loss: 0.0011612605190052506 || Validation Loss: 0.0011716455867749184\n",
      "Epoch 11 / 20 || Train Loss: 0.0011530019570896838 || Validation Loss: 0.0011935110908702492\n",
      "Epoch 12 / 20 || Train Loss: 0.0011612885050384819 || Validation Loss: 0.0011714986512605943\n",
      "Epoch 13 / 20 || Train Loss: 0.0011584133528415046 || Validation Loss: 0.001229382439629975\n",
      "Epoch 14 / 20 || Train Loss: 0.0011435144108199826 || Validation Loss: 0.0012383255663698763\n",
      "Epoch 15 / 20 || Train Loss: 0.00114917311801017  || Validation Loss: 0.0011749157276070073\n",
      "Epoch 16 / 20 || Train Loss: 0.0011434323673005407 || Validation Loss: 0.0013600326938514864\n",
      "Epoch 17 / 20 || Train Loss: 0.001142594516258401 || Validation Loss: 0.0012021889279323896\n",
      "Epoch 18 / 20 || Train Loss: 0.001135254010330341 || Validation Loss: 0.0012885269379283035\n",
      "Epoch 19 / 20 || Train Loss: 0.001140611699533511 || Validation Loss: 0.0011878944960470783\n",
      "Epoch 20 / 20 || Train Loss: 0.0011344300225353547 || Validation Loss: 0.0011809639154536178\n"
     ]
    }
   ],
   "source": [
    "training_losses, validation_losses = train_model(model, 20, train_dataloader, val_dataloader, optimizer, criterion)"
   ]
  },
  {
   "cell_type": "code",
   "execution_count": 229,
   "metadata": {},
   "outputs": [],
   "source": [
    "def plot_losses(training_losses):\n",
    "    plt.clf()\n",
    "    training_losses = torch.FloatTensor(training_losses)\n",
    "    \n",
    "    plt.plot(training_losses, label=\"Training\")\n",
    "    plt.legend(loc=\"upper right\")\n",
    "    plt.xlabel(\"Epochs\")\n",
    "    plt.ylabel(\"Loss\")\n",
    "    plt.grid(True)\n",
    "    plt.show()"
   ]
  },
  {
   "cell_type": "code",
   "execution_count": 230,
   "metadata": {},
   "outputs": [
    {
     "data": {
      "image/png": "[encoded data removed]",
      "text/plain": [
       "<Figure size 640x480 with 1 Axes>"
      ]
     },
     "metadata": {},
     "output_type": "display_data"
    }
   ],
   "source": [
    "plot_losses(training_losses)"
   ]
  },
  {
   "cell_type": "code",
   "execution_count": 232,
   "metadata": {},
   "outputs": [
    {
     "name": "stdout",
     "output_type": "stream",
     "text": [
      "0.0012065715679770563\n"
     ]
    }
   ],
   "source": [
    "with torch.no_grad():\n",
    "    running_test_loss = 0.0\n",
    "    for sequences, targets in test_dataloader:\n",
    "        predictions = model(sequences)\n",
    "        loss = criterion(predictions.squeeze(), targets)\n",
    "        running_test_loss += loss.item()\n",
    "        \n",
    "    avg_test_loss = running_test_loss / len(test_dataloader)\n",
    "    \n",
    "    print(avg_test_loss)"
   ]
  },
  {
   "cell_type": "code",
   "execution_count": 233,
   "metadata": {},
   "outputs": [],
   "source": [
    "model_path = os.path.abspath(\".\") + \"/model1.pt\"\n",
    "torch.save(model, model_path)"
   ]
  },
  {
   "cell_type": "markdown",
   "metadata": {},
   "source": [
    "# 3.5. Model Loading"
   ]
  },
  {
   "cell_type": "code",
   "execution_count": 234,
   "metadata": {},
   "outputs": [],
   "source": [
    "model = torch.load(\"model1.pt\")"
   ]
  },
  {
   "cell_type": "markdown",
   "metadata": {},
   "source": [
    "# 4. Model Evaluation"
   ]
  },
  {
   "cell_type": "code",
   "execution_count": 236,
   "metadata": {},
   "outputs": [],
   "source": [
    "def predict_stock(model: nn.Module, stock_name: str) -> None:\n",
    "    stock_data = database.get_stock_data(stock_name)\n",
    "    scaler = MinMaxScaler(feature_range=(0,1))\n",
    "    stock_closing_prices = torch.FloatTensor(stock_data.close_price)\n",
    "    \n",
    "    stock_data = stockdata_to_tensor(stock_data)\n",
    "    \n",
    "    scaled_stock_data = torch.tensor(scaler.fit_transform(stock_data), dtype=torch.float32)\n",
    "    predictions = get_predictions(model, scaled_stock_data, stock_closing_prices)\n",
    "    \n",
    "    plt.clf()\n",
    "    plt.plot(predictions, label=\"Predicted\")\n",
    "    plt.plot(stock_closing_prices[14:], label=\"Actual\")\n",
    "    plt.legend(loc=\"upper left\")\n",
    "    plt.title(f\"Stock predictions for {stock_name}\")\n",
    "    plt.ylabel(f\"Price\")\n",
    "    plt.xlabel(f\"Day\")\n",
    "    plt.grid(True)\n",
    "    plt.show()\n",
    "    \n",
    "    \n",
    "def get_predictions(model: nn.Module, scaled_data: np.array, closing_prices: tuple[float]) -> torch.FloatTensor:\n",
    "    predictions = []\n",
    "    for i in range(scaled_data.shape[0]-14):\n",
    "        sequence = scaled_data[i:i+14].unsqueeze(0)\n",
    "        prediction = model(sequence).item()\n",
    "        \n",
    "        latest_closing_price = sequence[0][-1][1].item() # to avoid division by 0\n",
    "        price_change_percentage = (prediction - latest_closing_price) / 1\n",
    "        actual_previous_price = closing_prices[i+14]\n",
    "        \n",
    "        unscaled_predicted_price = actual_previous_price * (1 + price_change_percentage)\n",
    "        predictions.append(unscaled_predicted_price)\n",
    "    \n",
    "    return torch.FloatTensor(predictions)\n",
    "\n",
    "\n",
    "def plot_predictions_vs_true()"
   ]
  },
  {
   "cell_type": "code",
   "execution_count": 237,
   "metadata": {},
   "outputs": [
    {
     "data": {
      "text/plain": [
       "['MSFT',\n",
       " 'JPM',\n",
       " 'MSI',\n",
       " 'CMG',\n",
       " 'LOW',\n",
       " 'LMT',\n",
       " 'V',\n",
       " 'PDD',\n",
       " 'CAT',\n",
       " 'COP',\n",
       " 'SYK',\n",
       " 'SNY',\n",
       " 'ELV',\n",
       " 'AMT',\n",
       " 'WDAY']"
      ]
     },
     "execution_count": 237,
     "metadata": {},
     "output_type": "execute_result"
    }
   ],
   "source": [
    "not_sampled_symbols"
   ]
  },
  {
   "cell_type": "code",
   "execution_count": 245,
   "metadata": {},
   "outputs": [],
   "source": [
    "scaler = MinMaxScaler(feature_range=(0,1))\n",
    "\n",
    "fig, axis = plt.subplots(nrows=len(not_sampled_symbols), ncols=1, figsize=(8, 4*len(not_sampled_symbols)))\n",
    "\n",
    "for i, symbol in enumerate(not_sampled_symbols):\n",
    "    stock_data = database.get_stock_data(symbol)\n",
    "    stock_closing_prices = torch.FloatTensor(stock_data.close_price)\n",
    "    \n",
    "    stock_data = stockdata_to_tensor(stock_data)\n",
    "    scaled_stock_data = torch.tensor(scaler.fit_transform(stock_data), dtype=torch.float32)\n",
    "    \n",
    "    predictions = get_predictions(model, scaled_stock_data, stock_closing_prices)\n",
    "    \n",
    "    axis[i].plot(predictions, label=\"Predicted\")\n",
    "    axis[i].plot(stock_closing_prices[14:], label=\"Actual\")\n",
    "    axis[i].legend(loc=\"upper left\")\n",
    "    axis[i].set_title(f\"Actual vs. Predicted Prices for ${symbol}\")\n",
    "    axis[i].set_xlabel(\"Time\")\n",
    "    axis[i].set_ylabel(\"Stock Price\")\n",
    "    axis[i].grid(True)\n",
    "\n",
    "plt.show()"
   ]
  },
  {
   "cell_type": "code",
   "execution_count": null,
   "metadata": {},
   "outputs": [],
   "source": []
  }
 ],
 "metadata": {
  "kernelspec": {
   "display_name": "rl",
   "language": "python",
   "name": "python3"
  },
  "language_info": {
   "codemirror_mode": {
    "name": "ipython",
    "version": 3
   },
   "file_extension": ".py",
   "mimetype": "text/x-python",
   "name": "python",
   "nbconvert_exporter": "python",
   "pygments_lexer": "ipython3",
   "version": "3.11.9"
  }
 },
 "nbformat": 4,
 "nbformat_minor": 2
}
